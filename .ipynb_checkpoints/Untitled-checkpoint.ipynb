{
 "cells": [
  {
   "cell_type": "markdown",
   "id": "b99f13bf",
   "metadata": {},
   "source": [
    "# 目的\n",
    "1日に1回最新論文を取得し、日本語化してcsvにまとめる。  \n",
    "最終的にはSlack等にあげられるか検討中\n",
    "csvの項目として以下を検討中。  \n",
    "題名、著者、公開された日、URL  "
   ]
  },
  {
   "cell_type": "markdown",
   "id": "f66a869a",
   "metadata": {},
   "source": [
    "## 論文の取得"
   ]
  },
  {
   "cell_type": "code",
   "execution_count": 81,
   "id": "df2a1150",
   "metadata": {},
   "outputs": [
    {
     "ename": "ModuleNotFoundError",
     "evalue": "No module named 'tqdm'",
     "output_type": "error",
     "traceback": [
      "\u001b[1;31m---------------------------------------------------------------------------\u001b[0m",
      "\u001b[1;31mModuleNotFoundError\u001b[0m                       Traceback (most recent call last)",
      "Input \u001b[1;32mIn [81]\u001b[0m, in \u001b[0;36m<cell line: 7>\u001b[1;34m()\u001b[0m\n\u001b[0;32m      5\u001b[0m \u001b[38;5;28;01mimport\u001b[39;00m \u001b[38;5;21;01mnumpy\u001b[39;00m \u001b[38;5;28;01mas\u001b[39;00m \u001b[38;5;21;01mnp\u001b[39;00m\n\u001b[0;32m      6\u001b[0m \u001b[38;5;28;01mimport\u001b[39;00m \u001b[38;5;21;01mpprint\u001b[39;00m\n\u001b[1;32m----> 7\u001b[0m \u001b[38;5;28;01mimport\u001b[39;00m \u001b[38;5;21;01mtqdm\u001b[39;00m\n",
      "\u001b[1;31mModuleNotFoundError\u001b[0m: No module named 'tqdm'"
     ]
    }
   ],
   "source": [
    "import arxiv\n",
    "from arxiv import SortCriterion\n",
    "import googletrans\n",
    "import pandas as pd\n",
    "import numpy as np\n",
    "import pprint\n",
    "import tqdm"
   ]
  },
  {
   "cell_type": "code",
   "execution_count": 82,
   "id": "3143710d",
   "metadata": {},
   "outputs": [],
   "source": [
    "search = arxiv.Search(\n",
    "    query = \"Satellite Image\",\n",
    "#     id_list = [],\n",
    "    max_results = 10,\n",
    "#     sort_by = SortCriterion.LastUpdatedDate\n",
    "    sort_by = SortCriterion.Relevance,\n",
    "#     sort_order = SortOrder.Descending\n",
    ")"
   ]
  },
  {
   "cell_type": "code",
   "execution_count": 83,
   "id": "5faded27",
   "metadata": {},
   "outputs": [
    {
     "data": {
      "text/plain": [
       "arxiv.Search(query='Satellite Image', id_list=[], max_results=10, sort_by=<SortCriterion.Relevance: 'relevance'>, sort_order=<SortOrder.Descending: 'descending'>)"
      ]
     },
     "execution_count": 83,
     "metadata": {},
     "output_type": "execute_result"
    }
   ],
   "source": [
    "search"
   ]
  },
  {
   "cell_type": "code",
   "execution_count": 79,
   "id": "96dc30c2",
   "metadata": {},
   "outputs": [],
   "source": [
    "# 検索結果\n",
    "results = list(search.results())"
   ]
  },
  {
   "cell_type": "code",
   "execution_count": 80,
   "id": "dcd1a8e9",
   "metadata": {},
   "outputs": [
    {
     "name": "stdout",
     "output_type": "stream",
     "text": [
      "arx_pdf:http://arxiv.org/abs/2205.12407v1\n",
      "Convolutional Neural Processes for Inpainting Satellite Images\n"
     ]
    }
   ],
   "source": [
    "for arx_pdf in tqdm(results):\n",
    "    print(f\"arx_pdf:{arx_pdf}\")\n",
    "    print(arx_pdf.title)\n",
    "#         print(arx_pdf.summary)\n",
    "#         arx_pdf.download_pdf()"
   ]
  },
  {
   "cell_type": "code",
   "execution_count": 51,
   "id": "1bfa218c",
   "metadata": {},
   "outputs": [
    {
     "name": "stdout",
     "output_type": "stream",
     "text": [
      "arxiv.Result(entry_id='http://arxiv.org/abs/2205.12407v1', updated=datetime.datetime(2022, 5, 24, 23, 29, 4, tzinfo=datetime.timezone.utc), published=datetime.datetime(2022, 5, 24, 23, 29, 4, tzinfo=datetime.timezone.utc), title='Convolutional Neural Processes for Inpainting Satellite Images', authors=[arxiv.Result.Author('Alexander Pondaven'), arxiv.Result.Author('Märt Bakler'), arxiv.Result.Author('Donghu Guo'), arxiv.Result.Author('Hamzah Hashim'), arxiv.Result.Author('Martin Ignatov'), arxiv.Result.Author('Harrison Zhu')], summary='The widespread availability of satellite images has allowed researchers to\\nmodel complex systems such as disease dynamics. However, many satellite images\\nhave missing values due to measurement defects, which render them unusable\\nwithout data imputation. For example, the scanline corrector for the LANDSAT 7\\nsatellite broke down in 2003, resulting in a loss of around 20\\\\% of its data.\\nInpainting involves predicting what is missing based on the known pixels and is\\nan old problem in image processing, classically based on PDEs or interpolation\\nmethods, but recent deep learning approaches have shown promise. However, many\\nof these methods do not explicitly take into account the inherent\\nspatiotemporal structure of satellite images. In this work, we cast satellite\\nimage inpainting as a natural meta-learning problem, and propose using\\nconvolutional neural processes (ConvNPs) where we frame each satellite image as\\nits own task or 2D regression problem. We show ConvNPs can outperform classical\\nmethods and state-of-the-art deep learning inpainting models on a scanline\\ninpainting problem for LANDSAT 7 satellite images, assessed on a variety of in\\nand out-of-distribution images.', comment=None, journal_ref=None, doi=None, primary_category='cs.CV', categories=['cs.CV', 'cs.LG'], links=[arxiv.Result.Link('http://arxiv.org/abs/2205.12407v1', title=None, rel='alternate', content_type=None), arxiv.Result.Link('http://arxiv.org/pdf/2205.12407v1', title='pdf', rel='related', content_type=None)])\n"
     ]
    }
   ],
   "source": [
    "pprint.pprint(results[0], width=200)"
   ]
  },
  {
   "cell_type": "code",
   "execution_count": null,
   "id": "75609f7d",
   "metadata": {},
   "outputs": [],
   "source": []
  }
 ],
 "metadata": {
  "kernelspec": {
   "display_name": "Python 3 (ipykernel)",
   "language": "python",
   "name": "python3"
  },
  "language_info": {
   "codemirror_mode": {
    "name": "ipython",
    "version": 3
   },
   "file_extension": ".py",
   "mimetype": "text/x-python",
   "name": "python",
   "nbconvert_exporter": "python",
   "pygments_lexer": "ipython3",
   "version": "3.9.13"
  }
 },
 "nbformat": 4,
 "nbformat_minor": 5
}
