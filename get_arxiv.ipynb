{
 "cells": [
  {
   "cell_type": "markdown",
   "id": "b99f13bf",
   "metadata": {},
   "source": [
    "# 目的\n",
    "1日に1回最新論文を取得し、日本語化してcsvにまとめる。  \n",
    "最終的にはSlack等にあげられるか検討中\n",
    "csvの項目として以下を検討中。  \n",
    "題名、著者、公開された日、URL  "
   ]
  },
  {
   "cell_type": "markdown",
   "id": "f66a869a",
   "metadata": {},
   "source": [
    "## 論文の取得"
   ]
  },
  {
   "cell_type": "code",
   "execution_count": 6,
   "id": "df2a1150",
   "metadata": {},
   "outputs": [],
   "source": [
    "import arxiv\n",
    "from arxiv import SortCriterion\n",
    "import googletrans\n",
    "import pandas as pd\n",
    "import numpy as np\n",
    "import pprint\n",
    "from tqdm import tqdm"
   ]
  },
  {
   "cell_type": "code",
   "execution_count": 7,
   "id": "3143710d",
   "metadata": {},
   "outputs": [],
   "source": [
    "search = arxiv.Search(\n",
    "    query = \"Satellite Image\",\n",
    "#     id_list = [],\n",
    "    max_results = 10,\n",
    "#     sort_by = SortCriterion.LastUpdatedDate\n",
    "    sort_by = SortCriterion.Relevance,\n",
    "#     sort_order = SortOrder.Descending\n",
    ")"
   ]
  },
  {
   "cell_type": "code",
   "execution_count": 8,
   "id": "5faded27",
   "metadata": {},
   "outputs": [
    {
     "data": {
      "text/plain": [
       "arxiv.Search(query='Satellite Image', id_list=[], max_results=10, sort_by=<SortCriterion.Relevance: 'relevance'>, sort_order=<SortOrder.Descending: 'descending'>)"
      ]
     },
     "execution_count": 8,
     "metadata": {},
     "output_type": "execute_result"
    }
   ],
   "source": [
    "search"
   ]
  },
  {
   "cell_type": "code",
   "execution_count": 9,
   "id": "96dc30c2",
   "metadata": {},
   "outputs": [],
   "source": [
    "# 検索結果\n",
    "results = list(search.results())"
   ]
  },
  {
   "cell_type": "code",
   "execution_count": 10,
   "id": "dcd1a8e9",
   "metadata": {},
   "outputs": [
    {
     "name": "stderr",
     "output_type": "stream",
     "text": [
      "100%|██████████████████████████████████████████████████████████████████████████████████████████| 10/10 [00:00<?, ?it/s]"
     ]
    },
    {
     "name": "stdout",
     "output_type": "stream",
     "text": [
      "arx_pdf:http://arxiv.org/abs/2205.12407v1\n",
      "Convolutional Neural Processes for Inpainting Satellite Images\n",
      "arx_pdf:http://arxiv.org/abs/2207.10885v1\n",
      "XAI based Performance Preserving Adaptive Image Compression for Efficient Satellite Communication\n",
      "arx_pdf:http://arxiv.org/abs/2105.06373v1\n",
      "Manipulation Detection in Satellite Images Using Vision Transformer\n",
      "arx_pdf:http://arxiv.org/abs/2105.12633v1\n",
      "Edge Detection for Satellite Images without Deep Networks\n",
      "arx_pdf:http://arxiv.org/abs/1905.10236v1\n",
      "A Research and Strategy of Remote Sensing Image Denoising Algorithms\n",
      "arx_pdf:http://arxiv.org/abs/2209.08984v1\n",
      "An Overview on the Generation and Detection of Synthetic and Manipulated Satellite Images\n",
      "arx_pdf:http://arxiv.org/abs/2105.09253v1\n",
      "Image to Image Translation : Generating maps from satellite images\n",
      "arx_pdf:http://arxiv.org/abs/1802.04881v1\n",
      "Satellite Image Forgery Detection and Localization Using GAN and One-Class Classifier\n",
      "arx_pdf:http://arxiv.org/abs/2002.11248v1\n",
      "Super-Resolving Commercial Satellite Imagery Using Realistic Training Data\n",
      "arx_pdf:http://arxiv.org/abs/2207.11992v1\n",
      "The Missing Satellite Problem Outside of the Local Group. II. Statistical Properties of Satellites of Milky Way-like Galaxies\n"
     ]
    },
    {
     "name": "stderr",
     "output_type": "stream",
     "text": [
      "\n"
     ]
    }
   ],
   "source": [
    "for arx_pdf in tqdm(results):\n",
    "    print(f\"arx_pdf:{arx_pdf}\")\n",
    "    print(arx_pdf.title)\n",
    "#         print(arx_pdf.summary)\n",
    "#         arx_pdf.download_pdf()"
   ]
  },
  {
   "cell_type": "code",
   "execution_count": null,
   "id": "75609f7d",
   "metadata": {},
   "outputs": [],
   "source": []
  },
  {
   "cell_type": "code",
   "execution_count": null,
   "id": "15bb3c9c",
   "metadata": {},
   "outputs": [],
   "source": []
  }
 ],
 "metadata": {
  "kernelspec": {
   "display_name": "Python 3 (ipykernel)",
   "language": "python",
   "name": "python3"
  },
  "language_info": {
   "codemirror_mode": {
    "name": "ipython",
    "version": 3
   },
   "file_extension": ".py",
   "mimetype": "text/x-python",
   "name": "python",
   "nbconvert_exporter": "python",
   "pygments_lexer": "ipython3",
   "version": "3.9.13"
  }
 },
 "nbformat": 4,
 "nbformat_minor": 5
}
